{
 "cells": [
  {
   "cell_type": "markdown",
   "id": "6ed8852a-88a2-4934-a00f-061d3e47065f",
   "metadata": {},
   "source": [
    "# Data Science Tools and Ecosystem"
   ]
  },
  {
   "cell_type": "markdown",
   "id": "c15fe998-20db-4add-9f42-fe618495befa",
   "metadata": {},
   "source": [
    "In these notebook, Data Science Tools and Ecosystem are summarized."
   ]
  },
  {
   "cell_type": "markdown",
   "id": "b3a80939-fab6-479b-9414-9068aa73f563",
   "metadata": {},
   "source": [
    "Some popular languages Data Scientist use are :\n",
    "1. Python\n",
    "2. R\n",
    "3. Scala\n",
    "4. Julia\n",
    "5. SQL"
   ]
  },
  {
   "cell_type": "markdown",
   "id": "5e4b82f8-6fe4-4b61-b9fd-a519d97db52d",
   "metadata": {},
   "source": [
    "Some of the commonly used libraries used by Data Scientists include:\n",
    "1. Pandas\n",
    "2. Numpy\n",
    "3. Matplot\n",
    "4. Seaborn\n",
    "5. Sklearn"
   ]
  },
  {
   "cell_type": "markdown",
   "id": "2c39fed9-f0aa-4ed9-aaee-64f78e098870",
   "metadata": {},
   "source": [
    "| Data Science Tools |\n",
    "----------------------\n",
    "| Jupyter Notebook |\n",
    "| Spark |\n",
    "| Orange |"
   ]
  },
  {
   "cell_type": "markdown",
   "id": "a694db73-6e11-4c7f-820f-628300e3523e",
   "metadata": {},
   "source": [
    "### Below are a few examples of evaluating arithmetic expressions in Python"
   ]
  },
  {
   "cell_type": "code",
   "execution_count": 1,
   "id": "6d84e85c-3bb9-4c90-8975-f5a003bcd3df",
   "metadata": {
    "tags": []
   },
   "outputs": [
    {
     "data": {
      "text/plain": [
       "17"
      ]
     },
     "execution_count": 1,
     "metadata": {},
     "output_type": "execute_result"
    }
   ],
   "source": [
    "# This a simple arithmetic expression to mutiply then add integers\n",
    "(3*4)+5"
   ]
  },
  {
   "cell_type": "code",
   "execution_count": 2,
   "id": "fc91ded5-9921-408a-a377-540876f1f31a",
   "metadata": {
    "tags": []
   },
   "outputs": [
    {
     "data": {
      "text/plain": [
       "3.3333333333333335"
      ]
     },
     "execution_count": 2,
     "metadata": {},
     "output_type": "execute_result"
    }
   ],
   "source": [
    "# This will convert 200 minutes to hours by diving by 60\n",
    "200/60"
   ]
  },
  {
   "cell_type": "markdown",
   "id": "ab7f975d-c895-4892-93f0-af75cfe28496",
   "metadata": {},
   "source": [
    "**Objectives**\n",
    "- Popular Data Science Libraries\n",
    "- Popular Data Science Languages\n",
    "- Popular Data Science Tools \n",
    "- Arithmetic Expressions "
   ]
  },
  {
   "cell_type": "markdown",
   "id": "f352f7e5-0400-4750-bf4d-613ff40eb322",
   "metadata": {},
   "source": [
    "## Author\n",
    "Dhairya Patel"
   ]
  },
  {
   "cell_type": "code",
   "execution_count": null,
   "id": "189a3dea-5855-466f-b8ea-167ff7ade7e7",
   "metadata": {},
   "outputs": [],
   "source": []
  }
 ],
 "metadata": {
  "kernelspec": {
   "display_name": "Python",
   "language": "python",
   "name": "conda-env-python-py"
  },
  "language_info": {
   "codemirror_mode": {
    "name": "ipython",
    "version": 3
   },
   "file_extension": ".py",
   "mimetype": "text/x-python",
   "name": "python",
   "nbconvert_exporter": "python",
   "pygments_lexer": "ipython3",
   "version": "3.7.12"
  }
 },
 "nbformat": 4,
 "nbformat_minor": 5
}
